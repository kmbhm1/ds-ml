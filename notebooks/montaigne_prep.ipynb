{
 "cells": [
  {
   "cell_type": "markdown",
   "id": "8fb25793-be33-41f0-a38a-cd4902b642d3",
   "metadata": {},
   "source": [
    "# Pre-processing Michel de Montaigne's Words\n",
    "\n",
    "## Purpose\n",
    "\n",
    "The aim here is to download and process Michel de Montaigne's written texts in order to use this information elsewhere.\n",
    "\n",
    "## Protocol\n",
    "\n",
    "1. Fetch the Web Page: Use a library like requests to fetch the content of the webpage.\n",
    "2. Parse the HTML: Use a library like BeautifulSoup to parse the HTML and extract the relevant content.\n",
    "3. Clean the Extracted Text: Remove any extra whitespace, footnote references, and other artifacts.\n"
   ]
  },
  {
   "cell_type": "code",
   "execution_count": 119,
   "id": "072a74d3-a79f-49b6-b412-5cc386a8372d",
   "metadata": {},
   "outputs": [],
   "source": [
    "# Imports\n",
    "import requests\n",
    "from bs4 import BeautifulSoup\n",
    "import re\n",
    "import json\n",
    "import os"
   ]
  },
  {
   "cell_type": "code",
   "execution_count": 122,
   "id": "d97b0ba8-d025-461d-b022-5ecfe649241e",
   "metadata": {},
   "outputs": [],
   "source": [
    "# Set the URL\n",
    "URL = \"https://www.gutenberg.org/files/3600/3600-h/3600-h.htm\"\n",
    "FINAL_JSON_NAME = 'montaigne.json'\n",
    "RESULT_PATH = os.path.join('..', 'data', 'processed', FINAL_JSON_NAME)"
   ]
  },
  {
   "cell_type": "code",
   "execution_count": 4,
   "id": "a09ac156-c7b2-4474-8988-f1dc40bf9143",
   "metadata": {},
   "outputs": [],
   "source": [
    "# Fetch the web page\n",
    "response = requests.get(URL)\n",
    "response.raise_for_status()"
   ]
  },
  {
   "cell_type": "code",
   "execution_count": 5,
   "id": "2c28a1e9-9fa0-4f69-a981-0499380a9c2d",
   "metadata": {},
   "outputs": [],
   "source": [
    "# Parse the HTML\n",
    "soup = BeautifulSoup(response.text, 'html.parser')"
   ]
  },
  {
   "cell_type": "code",
   "execution_count": 103,
   "id": "feb8c16f-d5ef-4e5c-a916-66849bb973d9",
   "metadata": {},
   "outputs": [],
   "source": [
    "# Remove square brackets and all intervening substrings in string\n",
    "def remove_brackets(string):\n",
    "    while True:\n",
    "        try:\n",
    "            start = string.index('[')\n",
    "            end = string.index(']')\n",
    "            string = string[:start] + string[end + 1:]\n",
    "        except ValueError:\n",
    "            return string\n",
    "\n",
    "# Process the body text\n",
    "def preprocess_body(s: str) -> str:\n",
    "    s = s.encode('ascii', 'ignore').decode('ascii')        # process encoding\n",
    "    s = remove_brackets(s)                                 # remove any text between square brackets\n",
    "    s = s.replace('\\r', ' ').replace('\\n', ' ').strip()    # remove newlines, carriage returns, & hyphens\n",
    "    s = ' '.join(s.split())                                # multiple spaces to one space\n",
    "    s = s.lower()                                          # convert to lowercase\n",
    "\n",
    "    return s\n",
    "\n",
    "# Process the headings\n",
    "def preprocess_title(s: str) -> str:    \n",
    "    # remove newlines, carriage returns, & hyphens\n",
    "    s = s.replace('\\r', ' ').replace('\\n', ' ').strip().replace('——', ' ')\n",
    "    # multiple spaces to one space\n",
    "    s = ' '.join(s.split())\n",
    "    # process encoding\n",
    "    s = s.encode('ascii', 'ignore').decode('ascii')\n",
    "\n",
    "    return s\n",
    "\n",
    "\n",
    "def has_roman_numeral(s: str) -> bool:\n",
    "    return bool(re.search(r\"^M{0,3}(CM|CD|D?C{0,3})(XC|XL|L?X{0,3})(IX|IV|V?I{0,3})$\", s.replace('.', '')))\n"
   ]
  },
  {
   "cell_type": "code",
   "execution_count": 116,
   "id": "6d1cc97c-676d-4d95-9018-647f8ef0e521",
   "metadata": {},
   "outputs": [],
   "source": [
    "# Extract the main content. Adjust accordingly if the structure is different.\n",
    "# This is based on the assumptiom that Montaigne's essay titles are within the <h2> tags.\n",
    "# & text is within the <p> tags. Create a nested object structure\n",
    "\n",
    "target = soup.find('h2')\n",
    "result = dict()\n",
    "current_title = None\n",
    "for sib in target.find_next_siblings():\n",
    "    if sib.name == 'h2':\n",
    "        current_title = preprocess_title(sib.text)\n",
    "        result.setdefault(current_title, list())\n",
    "    elif current_title and sib.name == 'p':\n",
    "        text = preprocess_body(sib.text)\n",
    "        if text:\n",
    "            result[current_title].append(text)\n",
    "\n",
    "keys = list(result.keys())\n",
    "for k in keys:\n",
    "    for substr in k.split(' '):\n",
    "        rn = has_roman_numeral(substr)\n",
    "        if rn:\n",
    "            break\n",
    "    if not rn:\n",
    "        del result[k]\n",
    "\n",
    "result = { k: {\"text\": \" \".join(v).lower()} for k, v in result.items() }\n",
    "\n",
    "# k = list(result.keys())[0]\n",
    "# print(k)\n",
    "# print(result[k])"
   ]
  },
  {
   "cell_type": "code",
   "execution_count": 123,
   "id": "f2a3f872-c23e-4770-89d1-032bb291f560",
   "metadata": {},
   "outputs": [],
   "source": [
    "# Save result to json\n",
    "with open(RESULT_PATH, \"w\") as f:\n",
    "    json.dump(result, f)"
   ]
  }
 ],
 "metadata": {
  "kernelspec": {
   "display_name": "Python 3 (ipykernel)",
   "language": "python",
   "name": "python3"
  },
  "language_info": {
   "codemirror_mode": {
    "name": "ipython",
    "version": 3
   },
   "file_extension": ".py",
   "mimetype": "text/x-python",
   "name": "python",
   "nbconvert_exporter": "python",
   "pygments_lexer": "ipython3",
   "version": "3.10.4"
  }
 },
 "nbformat": 4,
 "nbformat_minor": 5
}
